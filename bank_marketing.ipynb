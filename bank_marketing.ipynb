{
  "nbformat": 4,
  "nbformat_minor": 0,
  "metadata": {
    "colab": {
      "name": "bank_marketing.ipynb",
      "version": "0.3.2",
      "provenance": [],
      "collapsed_sections": [],
      "include_colab_link": true
    },
    "kernelspec": {
      "display_name": "Python 3",
      "language": "python",
      "name": "python3"
    }
  },
  "cells": [
    {
      "cell_type": "markdown",
      "metadata": {
        "id": "view-in-github",
        "colab_type": "text"
      },
      "source": [
        "<a href=\"https://colab.research.google.com/github/fomin-max/bank_marketing/blob/master/bank_marketing.ipynb\" target=\"_parent\"><img src=\"https://colab.research.google.com/assets/colab-badge.svg\" alt=\"Open In Colab\"/></a>"
      ]
    },
    {
      "metadata": {
        "id": "l57pBPDQ_fd2",
        "colab_type": "text"
      },
      "cell_type": "markdown",
      "source": [
        "# <center>Прогнозирование срочных депозитов</center>\n",
        "<center> Автор: Фомин Максим"
      ]
    },
    {
      "metadata": {
        "id": "WeZfq-2DM34O",
        "colab_type": "code",
        "colab": {}
      },
      "cell_type": "code",
      "source": [
        "import pandas as pd\n",
        "import numpy as np\n",
        "import matplotlib\n",
        "import matplotlib.pyplot as plt\n",
        "import seaborn as sns\n",
        "\n",
        "from sklearn import preprocessing\n",
        "from sklearn.linear_model import LogisticRegression\n",
        "from sklearn.neighbors import KNeighborsClassifier\n",
        "from sklearn.ensemble import RandomForestClassifier\n",
        "from sklearn.ensemble import GradientBoostingClassifier\n",
        "from sklearn.svm import SVC\n",
        "\n",
        "from sklearn.model_selection import GridSearchCV\n",
        "from sklearn.model_selection import StratifiedKFold\n",
        "from sklearn.model_selection import train_test_split\n",
        "from sklearn.model_selection import validation_curve\n",
        "from sklearn.model_selection import learning_curve\n",
        "from sklearn.metrics import f1_score\n",
        "from sklearn.metrics import accuracy_score\n",
        "\n",
        "from sklearn import tree\n",
        "from io import BytesIO as StringIO\n",
        "import pydotplus\n",
        "from IPython.display import Image\n",
        "\n",
        "matplotlib.style.use('ggplot')\n",
        "%matplotlib inline"
      ],
      "execution_count": 0,
      "outputs": []
    },
    {
      "metadata": {
        "id": "9sgUePfe_nx9",
        "colab_type": "text"
      },
      "cell_type": "markdown",
      "source": [
        "## <center>Информация о наборе данных: \n",
        "\n",
        "Данные связаны с маркетинговыми кампаниями банковского учреждения. Маркетинговые кампании были основаны на телефонных звонках. Часто требовалось более одного контакта с одним и тем же клиентом, чтобы клиент сделал срочный депозит. Срочный депозит - это депозит, который банк или финансовый институт предлагает с фиксированной ставкой (часто лучше, чем просто открытие депозитного счета), в котором ваши деньги будут возвращены в определенный срок. </center>"
      ]
    },
    {
      "metadata": {
        "id": "rt8mcT4WeFKA",
        "colab_type": "code",
        "outputId": "b425d0e6-d300-4306-8eec-69855b536ecf",
        "colab": {
          "base_uri": "https://localhost:8080/",
          "height": 270
        }
      },
      "cell_type": "code",
      "source": [
        "df = pd.read_csv('bank_marketing.csv')\n",
        "df.head()"
      ],
      "execution_count": 0,
      "outputs": [
        {
          "output_type": "execute_result",
          "data": {
            "text/html": [
              "<div>\n",
              "<style scoped>\n",
              "    .dataframe tbody tr th:only-of-type {\n",
              "        vertical-align: middle;\n",
              "    }\n",
              "\n",
              "    .dataframe tbody tr th {\n",
              "        vertical-align: top;\n",
              "    }\n",
              "\n",
              "    .dataframe thead th {\n",
              "        text-align: right;\n",
              "    }\n",
              "</style>\n",
              "<table border=\"1\" class=\"dataframe\">\n",
              "  <thead>\n",
              "    <tr style=\"text-align: right;\">\n",
              "      <th></th>\n",
              "      <th>Unnamed: 0</th>\n",
              "      <th>age</th>\n",
              "      <th>job</th>\n",
              "      <th>marital</th>\n",
              "      <th>education</th>\n",
              "      <th>default</th>\n",
              "      <th>housing</th>\n",
              "      <th>loan</th>\n",
              "      <th>contact</th>\n",
              "      <th>month</th>\n",
              "      <th>...</th>\n",
              "      <th>campaign</th>\n",
              "      <th>pdays</th>\n",
              "      <th>previous</th>\n",
              "      <th>poutcome</th>\n",
              "      <th>emp.var.rate</th>\n",
              "      <th>cons.price.idx</th>\n",
              "      <th>cons.conf.idx</th>\n",
              "      <th>euribor3m</th>\n",
              "      <th>nr.employed</th>\n",
              "      <th>y</th>\n",
              "    </tr>\n",
              "  </thead>\n",
              "  <tbody>\n",
              "    <tr>\n",
              "      <th>0</th>\n",
              "      <td>0</td>\n",
              "      <td>56</td>\n",
              "      <td>housemaid</td>\n",
              "      <td>married</td>\n",
              "      <td>basic.4y</td>\n",
              "      <td>no</td>\n",
              "      <td>no</td>\n",
              "      <td>no</td>\n",
              "      <td>telephone</td>\n",
              "      <td>may</td>\n",
              "      <td>...</td>\n",
              "      <td>1</td>\n",
              "      <td>999</td>\n",
              "      <td>0</td>\n",
              "      <td>nonexistent</td>\n",
              "      <td>1.1</td>\n",
              "      <td>93.994</td>\n",
              "      <td>-36.4</td>\n",
              "      <td>4.857</td>\n",
              "      <td>5191.0</td>\n",
              "      <td>no</td>\n",
              "    </tr>\n",
              "    <tr>\n",
              "      <th>1</th>\n",
              "      <td>1</td>\n",
              "      <td>57</td>\n",
              "      <td>services</td>\n",
              "      <td>married</td>\n",
              "      <td>high.school</td>\n",
              "      <td>unknown</td>\n",
              "      <td>no</td>\n",
              "      <td>no</td>\n",
              "      <td>telephone</td>\n",
              "      <td>may</td>\n",
              "      <td>...</td>\n",
              "      <td>1</td>\n",
              "      <td>999</td>\n",
              "      <td>0</td>\n",
              "      <td>nonexistent</td>\n",
              "      <td>1.1</td>\n",
              "      <td>93.994</td>\n",
              "      <td>-36.4</td>\n",
              "      <td>4.857</td>\n",
              "      <td>5191.0</td>\n",
              "      <td>no</td>\n",
              "    </tr>\n",
              "    <tr>\n",
              "      <th>2</th>\n",
              "      <td>2</td>\n",
              "      <td>37</td>\n",
              "      <td>services</td>\n",
              "      <td>married</td>\n",
              "      <td>high.school</td>\n",
              "      <td>no</td>\n",
              "      <td>yes</td>\n",
              "      <td>no</td>\n",
              "      <td>telephone</td>\n",
              "      <td>may</td>\n",
              "      <td>...</td>\n",
              "      <td>1</td>\n",
              "      <td>999</td>\n",
              "      <td>0</td>\n",
              "      <td>nonexistent</td>\n",
              "      <td>1.1</td>\n",
              "      <td>93.994</td>\n",
              "      <td>-36.4</td>\n",
              "      <td>4.857</td>\n",
              "      <td>5191.0</td>\n",
              "      <td>no</td>\n",
              "    </tr>\n",
              "    <tr>\n",
              "      <th>3</th>\n",
              "      <td>3</td>\n",
              "      <td>40</td>\n",
              "      <td>admin.</td>\n",
              "      <td>married</td>\n",
              "      <td>basic.6y</td>\n",
              "      <td>no</td>\n",
              "      <td>no</td>\n",
              "      <td>no</td>\n",
              "      <td>telephone</td>\n",
              "      <td>may</td>\n",
              "      <td>...</td>\n",
              "      <td>1</td>\n",
              "      <td>999</td>\n",
              "      <td>0</td>\n",
              "      <td>nonexistent</td>\n",
              "      <td>1.1</td>\n",
              "      <td>93.994</td>\n",
              "      <td>-36.4</td>\n",
              "      <td>4.857</td>\n",
              "      <td>5191.0</td>\n",
              "      <td>no</td>\n",
              "    </tr>\n",
              "    <tr>\n",
              "      <th>4</th>\n",
              "      <td>4</td>\n",
              "      <td>56</td>\n",
              "      <td>services</td>\n",
              "      <td>married</td>\n",
              "      <td>high.school</td>\n",
              "      <td>no</td>\n",
              "      <td>no</td>\n",
              "      <td>yes</td>\n",
              "      <td>telephone</td>\n",
              "      <td>may</td>\n",
              "      <td>...</td>\n",
              "      <td>1</td>\n",
              "      <td>999</td>\n",
              "      <td>0</td>\n",
              "      <td>nonexistent</td>\n",
              "      <td>1.1</td>\n",
              "      <td>93.994</td>\n",
              "      <td>-36.4</td>\n",
              "      <td>4.857</td>\n",
              "      <td>5191.0</td>\n",
              "      <td>no</td>\n",
              "    </tr>\n",
              "  </tbody>\n",
              "</table>\n",
              "<p>5 rows × 21 columns</p>\n",
              "</div>"
            ],
            "text/plain": [
              "   Unnamed: 0  age        job  marital    education  default housing loan  \\\n",
              "0           0   56  housemaid  married     basic.4y       no      no   no   \n",
              "1           1   57   services  married  high.school  unknown      no   no   \n",
              "2           2   37   services  married  high.school       no     yes   no   \n",
              "3           3   40     admin.  married     basic.6y       no      no   no   \n",
              "4           4   56   services  married  high.school       no      no  yes   \n",
              "\n",
              "     contact month ... campaign  pdays  previous     poutcome emp.var.rate  \\\n",
              "0  telephone   may ...        1    999         0  nonexistent          1.1   \n",
              "1  telephone   may ...        1    999         0  nonexistent          1.1   \n",
              "2  telephone   may ...        1    999         0  nonexistent          1.1   \n",
              "3  telephone   may ...        1    999         0  nonexistent          1.1   \n",
              "4  telephone   may ...        1    999         0  nonexistent          1.1   \n",
              "\n",
              "   cons.price.idx  cons.conf.idx  euribor3m  nr.employed   y  \n",
              "0          93.994          -36.4      4.857       5191.0  no  \n",
              "1          93.994          -36.4      4.857       5191.0  no  \n",
              "2          93.994          -36.4      4.857       5191.0  no  \n",
              "3          93.994          -36.4      4.857       5191.0  no  \n",
              "4          93.994          -36.4      4.857       5191.0  no  \n",
              "\n",
              "[5 rows x 21 columns]"
            ]
          },
          "metadata": {
            "tags": []
          },
          "execution_count": 18
        }
      ]
    },
    {
      "metadata": {
        "id": "yplwMJ32AgjW",
        "colab_type": "text"
      },
      "cell_type": "markdown",
      "source": [
        "Каждая строка представляет собой одного клиента - это **объект** исследования.  \n",
        "Столбцы - **признаки** объекта.\n",
        "\n",
        "\n",
        "Описание признаков объекта:\n",
        "\n",
        "\n",
        "Данные клиента банка:\n",
        "\n",
        "**age** - Возраст, количественный признак  \n",
        "**job** - Тип работы, номинальный признак ('admin.','blue-collar','entrepreneur','housemaid','management','retired','self-employed','services','student','technician','unemployed','unknown')  \n",
        "**marital** - Семейное положение, номинальный признак ('divorced','married','single','unknown')  \n",
        "**education** - Образование, номинальный признак (primary, secondary, tertiary and unknown)  \n",
        "**default** - Имеет ли кредит, номинальный признак ('no','yes','unknown')  \n",
        "**housing** - Имеет ли кредит на жилье, номинальный признак ('no','yes','unknown')  \n",
        "**loan** - Имеет ли личные займы, номинальный признак ('no','yes','unknown')\n",
        "\n",
        "Связано с последним контактом текущей кампании:\n",
        "\n",
        "**contact** - Тип связи, номинальный признак ('cellular','telephone')  \n",
        "**month** - Месяц последнего контакта с клиентом, номинальный признак ('jan', 'feb', 'mar', ..., 'nov', 'dec')  \n",
        "**day_of_week** - День недели последнего контакта с клиентом, номинальный признак ('mon','tue','wed','thu','fri')\n",
        "\n",
        "Другие признаки:\n",
        "\n",
        "**campaign** - Количество контактов, выполненных во время этой кампании и для этого клиента, количественный признак  \n",
        "**pdays** -  количество дней, прошедших после последнего контакта с клиентом из предыдущей кампании, количественный признак (999 означает, что с клиентом ранее не связывались)  \n",
        "**previous** - Количество контактов, выполненных до этой кампании и для этого клиента, количественный признак  \n",
        "**poutcome** - Результат предыдущей маркетинговой кампании, номинальный признак ('failure','nonexistent','success')\n",
        "\n",
        "Признаки социально-экономического характера:\n",
        "\n",
        "**emp.var.rate** - Уровень вариации занятости - квартальный показатель, количественный признак    \n",
        "**cons.price.idx** - Индекс потребительских цен - месячный показатель, количественный признак  \n",
        "**cons.conf.idx** - Индекс доверия потребителей - месячный показатель, количественный признак   \n",
        "**euribor3m** - Ставка межбанковского кредитования - дневной показатель, количественный признак   \n",
        "**nr.employed** - Количество работников - квартальный показатель, количественный признак   \n",
        "  \n",
        "Целевая переменная: **y** - Подписал ли клиент срочный депозит, бинарный признак ('yes','no') "
      ]
    },
    {
      "metadata": {
        "id": "B3Z-64gVAoo0",
        "colab_type": "text"
      },
      "cell_type": "markdown",
      "source": [
        "### Посмотрим, имеются ли пропущенные значения. Посчитаем, сколько строчек их содержит."
      ]
    },
    {
      "metadata": {
        "id": "NtS8Cym8AmyE",
        "colab_type": "code",
        "outputId": "c6892965-c437-4a56-e33e-0d5542b3b847",
        "colab": {
          "base_uri": "https://localhost:8080/",
          "height": 51
        }
      },
      "cell_type": "code",
      "source": [
        "print('Rows in the data frame: ', len(df))\n",
        "print('Rows without NAN: ', len(df.dropna(how='any')))"
      ],
      "execution_count": 0,
      "outputs": [
        {
          "output_type": "stream",
          "text": [
            "Rows in the data frame:  41188\n",
            "Rows without NAN:  41188\n"
          ],
          "name": "stdout"
        }
      ]
    },
    {
      "metadata": {
        "id": "hPV-C4BoA2hH",
        "colab_type": "text"
      },
      "cell_type": "markdown",
      "source": [
        "### Строк с пропущенными значениями нет. Далее необходимо удалить 1 столбец (нумерацию).\n"
      ]
    },
    {
      "metadata": {
        "id": "BDRprjcSAnIE",
        "colab_type": "code",
        "outputId": "769f2fd3-2214-4c21-b105-91eb88838491",
        "colab": {
          "base_uri": "https://localhost:8080/",
          "height": 224
        }
      },
      "cell_type": "code",
      "source": [
        "df.drop(df.columns[[0]], axis=1, inplace=True)\n",
        "df.head()"
      ],
      "execution_count": 0,
      "outputs": [
        {
          "output_type": "execute_result",
          "data": {
            "text/html": [
              "<div>\n",
              "<style scoped>\n",
              "    .dataframe tbody tr th:only-of-type {\n",
              "        vertical-align: middle;\n",
              "    }\n",
              "\n",
              "    .dataframe tbody tr th {\n",
              "        vertical-align: top;\n",
              "    }\n",
              "\n",
              "    .dataframe thead th {\n",
              "        text-align: right;\n",
              "    }\n",
              "</style>\n",
              "<table border=\"1\" class=\"dataframe\">\n",
              "  <thead>\n",
              "    <tr style=\"text-align: right;\">\n",
              "      <th></th>\n",
              "      <th>age</th>\n",
              "      <th>job</th>\n",
              "      <th>marital</th>\n",
              "      <th>education</th>\n",
              "      <th>default</th>\n",
              "      <th>housing</th>\n",
              "      <th>loan</th>\n",
              "      <th>contact</th>\n",
              "      <th>month</th>\n",
              "      <th>day_of_week</th>\n",
              "      <th>campaign</th>\n",
              "      <th>pdays</th>\n",
              "      <th>previous</th>\n",
              "      <th>poutcome</th>\n",
              "      <th>emp.var.rate</th>\n",
              "      <th>cons.price.idx</th>\n",
              "      <th>cons.conf.idx</th>\n",
              "      <th>euribor3m</th>\n",
              "      <th>nr.employed</th>\n",
              "      <th>y</th>\n",
              "    </tr>\n",
              "  </thead>\n",
              "  <tbody>\n",
              "    <tr>\n",
              "      <th>0</th>\n",
              "      <td>56</td>\n",
              "      <td>housemaid</td>\n",
              "      <td>married</td>\n",
              "      <td>basic.4y</td>\n",
              "      <td>no</td>\n",
              "      <td>no</td>\n",
              "      <td>no</td>\n",
              "      <td>telephone</td>\n",
              "      <td>may</td>\n",
              "      <td>mon</td>\n",
              "      <td>1</td>\n",
              "      <td>999</td>\n",
              "      <td>0</td>\n",
              "      <td>nonexistent</td>\n",
              "      <td>1.1</td>\n",
              "      <td>93.994</td>\n",
              "      <td>-36.4</td>\n",
              "      <td>4.857</td>\n",
              "      <td>5191.0</td>\n",
              "      <td>no</td>\n",
              "    </tr>\n",
              "    <tr>\n",
              "      <th>1</th>\n",
              "      <td>57</td>\n",
              "      <td>services</td>\n",
              "      <td>married</td>\n",
              "      <td>high.school</td>\n",
              "      <td>unknown</td>\n",
              "      <td>no</td>\n",
              "      <td>no</td>\n",
              "      <td>telephone</td>\n",
              "      <td>may</td>\n",
              "      <td>mon</td>\n",
              "      <td>1</td>\n",
              "      <td>999</td>\n",
              "      <td>0</td>\n",
              "      <td>nonexistent</td>\n",
              "      <td>1.1</td>\n",
              "      <td>93.994</td>\n",
              "      <td>-36.4</td>\n",
              "      <td>4.857</td>\n",
              "      <td>5191.0</td>\n",
              "      <td>no</td>\n",
              "    </tr>\n",
              "    <tr>\n",
              "      <th>2</th>\n",
              "      <td>37</td>\n",
              "      <td>services</td>\n",
              "      <td>married</td>\n",
              "      <td>high.school</td>\n",
              "      <td>no</td>\n",
              "      <td>yes</td>\n",
              "      <td>no</td>\n",
              "      <td>telephone</td>\n",
              "      <td>may</td>\n",
              "      <td>mon</td>\n",
              "      <td>1</td>\n",
              "      <td>999</td>\n",
              "      <td>0</td>\n",
              "      <td>nonexistent</td>\n",
              "      <td>1.1</td>\n",
              "      <td>93.994</td>\n",
              "      <td>-36.4</td>\n",
              "      <td>4.857</td>\n",
              "      <td>5191.0</td>\n",
              "      <td>no</td>\n",
              "    </tr>\n",
              "    <tr>\n",
              "      <th>3</th>\n",
              "      <td>40</td>\n",
              "      <td>admin.</td>\n",
              "      <td>married</td>\n",
              "      <td>basic.6y</td>\n",
              "      <td>no</td>\n",
              "      <td>no</td>\n",
              "      <td>no</td>\n",
              "      <td>telephone</td>\n",
              "      <td>may</td>\n",
              "      <td>mon</td>\n",
              "      <td>1</td>\n",
              "      <td>999</td>\n",
              "      <td>0</td>\n",
              "      <td>nonexistent</td>\n",
              "      <td>1.1</td>\n",
              "      <td>93.994</td>\n",
              "      <td>-36.4</td>\n",
              "      <td>4.857</td>\n",
              "      <td>5191.0</td>\n",
              "      <td>no</td>\n",
              "    </tr>\n",
              "    <tr>\n",
              "      <th>4</th>\n",
              "      <td>56</td>\n",
              "      <td>services</td>\n",
              "      <td>married</td>\n",
              "      <td>high.school</td>\n",
              "      <td>no</td>\n",
              "      <td>no</td>\n",
              "      <td>yes</td>\n",
              "      <td>telephone</td>\n",
              "      <td>may</td>\n",
              "      <td>mon</td>\n",
              "      <td>1</td>\n",
              "      <td>999</td>\n",
              "      <td>0</td>\n",
              "      <td>nonexistent</td>\n",
              "      <td>1.1</td>\n",
              "      <td>93.994</td>\n",
              "      <td>-36.4</td>\n",
              "      <td>4.857</td>\n",
              "      <td>5191.0</td>\n",
              "      <td>no</td>\n",
              "    </tr>\n",
              "  </tbody>\n",
              "</table>\n",
              "</div>"
            ],
            "text/plain": [
              "   age        job  marital    education  default housing loan    contact  \\\n",
              "0   56  housemaid  married     basic.4y       no      no   no  telephone   \n",
              "1   57   services  married  high.school  unknown      no   no  telephone   \n",
              "2   37   services  married  high.school       no     yes   no  telephone   \n",
              "3   40     admin.  married     basic.6y       no      no   no  telephone   \n",
              "4   56   services  married  high.school       no      no  yes  telephone   \n",
              "\n",
              "  month day_of_week  campaign  pdays  previous     poutcome  emp.var.rate  \\\n",
              "0   may         mon         1    999         0  nonexistent           1.1   \n",
              "1   may         mon         1    999         0  nonexistent           1.1   \n",
              "2   may         mon         1    999         0  nonexistent           1.1   \n",
              "3   may         mon         1    999         0  nonexistent           1.1   \n",
              "4   may         mon         1    999         0  nonexistent           1.1   \n",
              "\n",
              "   cons.price.idx  cons.conf.idx  euribor3m  nr.employed   y  \n",
              "0          93.994          -36.4      4.857       5191.0  no  \n",
              "1          93.994          -36.4      4.857       5191.0  no  \n",
              "2          93.994          -36.4      4.857       5191.0  no  \n",
              "3          93.994          -36.4      4.857       5191.0  no  \n",
              "4          93.994          -36.4      4.857       5191.0  no  "
            ]
          },
          "metadata": {
            "tags": []
          },
          "execution_count": 20
        }
      ]
    },
    {
      "metadata": {
        "id": "Jeu4GQAIAnVF",
        "colab_type": "code",
        "outputId": "54398b55-47b6-4bd2-a223-850c3a7764f2",
        "colab": {
          "base_uri": "https://localhost:8080/",
          "height": 442
        }
      },
      "cell_type": "code",
      "source": [
        "#Просмотр типов данных\n",
        "df.info()\n",
        "\n",
        "# Все данные заполнены, пропусков нет."
      ],
      "execution_count": 0,
      "outputs": [
        {
          "output_type": "stream",
          "text": [
            "<class 'pandas.core.frame.DataFrame'>\n",
            "RangeIndex: 41188 entries, 0 to 41187\n",
            "Data columns (total 20 columns):\n",
            "age               41188 non-null int64\n",
            "job               41188 non-null object\n",
            "marital           41188 non-null object\n",
            "education         41188 non-null object\n",
            "default           41188 non-null object\n",
            "housing           41188 non-null object\n",
            "loan              41188 non-null object\n",
            "contact           41188 non-null object\n",
            "month             41188 non-null object\n",
            "day_of_week       41188 non-null object\n",
            "campaign          41188 non-null int64\n",
            "pdays             41188 non-null int64\n",
            "previous          41188 non-null int64\n",
            "poutcome          41188 non-null object\n",
            "emp.var.rate      41188 non-null float64\n",
            "cons.price.idx    41188 non-null float64\n",
            "cons.conf.idx     41188 non-null float64\n",
            "euribor3m         41188 non-null float64\n",
            "nr.employed       41188 non-null float64\n",
            "y                 41188 non-null object\n",
            "dtypes: float64(5), int64(4), object(11)\n",
            "memory usage: 6.3+ MB\n"
          ],
          "name": "stdout"
        }
      ]
    },
    {
      "metadata": {
        "id": "yPTcSxSXBH18",
        "colab_type": "text"
      },
      "cell_type": "markdown",
      "source": [
        "### Проверим, имеются ли столбцы с постоянным значением"
      ]
    },
    {
      "metadata": {
        "id": "4kKBsSKrBJ5n",
        "colab_type": "code",
        "outputId": "44212863-4b05-4edb-e57f-76c4cc89b7cd",
        "colab": {
          "base_uri": "https://localhost:8080/",
          "height": 374
        }
      },
      "cell_type": "code",
      "source": [
        "df[[c for c in df.columns]].nunique()"
      ],
      "execution_count": 0,
      "outputs": [
        {
          "output_type": "execute_result",
          "data": {
            "text/plain": [
              "age                78\n",
              "job                12\n",
              "marital             4\n",
              "education           8\n",
              "default             3\n",
              "housing             3\n",
              "loan                3\n",
              "contact             2\n",
              "month              10\n",
              "day_of_week         5\n",
              "campaign           42\n",
              "pdays              27\n",
              "previous            8\n",
              "poutcome            3\n",
              "emp.var.rate       10\n",
              "cons.price.idx     26\n",
              "cons.conf.idx      26\n",
              "euribor3m         316\n",
              "nr.employed        11\n",
              "y                   2\n",
              "dtype: int64"
            ]
          },
          "metadata": {
            "tags": []
          },
          "execution_count": 27
        }
      ]
    },
    {
      "metadata": {
        "id": "yvfmNBeBBOy0",
        "colab_type": "code",
        "outputId": "e57f82c0-1247-4bb0-f2b4-08c8780da03d",
        "colab": {
          "base_uri": "https://localhost:8080/",
          "height": 328
        }
      },
      "cell_type": "code",
      "source": [
        "# Смотрим на статистические характеристики:\n",
        "df.describe().T"
      ],
      "execution_count": 0,
      "outputs": [
        {
          "output_type": "execute_result",
          "data": {
            "text/html": [
              "<div>\n",
              "<style scoped>\n",
              "    .dataframe tbody tr th:only-of-type {\n",
              "        vertical-align: middle;\n",
              "    }\n",
              "\n",
              "    .dataframe tbody tr th {\n",
              "        vertical-align: top;\n",
              "    }\n",
              "\n",
              "    .dataframe thead th {\n",
              "        text-align: right;\n",
              "    }\n",
              "</style>\n",
              "<table border=\"1\" class=\"dataframe\">\n",
              "  <thead>\n",
              "    <tr style=\"text-align: right;\">\n",
              "      <th></th>\n",
              "      <th>count</th>\n",
              "      <th>mean</th>\n",
              "      <th>std</th>\n",
              "      <th>min</th>\n",
              "      <th>25%</th>\n",
              "      <th>50%</th>\n",
              "      <th>75%</th>\n",
              "      <th>max</th>\n",
              "    </tr>\n",
              "  </thead>\n",
              "  <tbody>\n",
              "    <tr>\n",
              "      <th>age</th>\n",
              "      <td>41188.0</td>\n",
              "      <td>40.024060</td>\n",
              "      <td>10.421250</td>\n",
              "      <td>17.000</td>\n",
              "      <td>32.000</td>\n",
              "      <td>38.000</td>\n",
              "      <td>47.000</td>\n",
              "      <td>98.000</td>\n",
              "    </tr>\n",
              "    <tr>\n",
              "      <th>campaign</th>\n",
              "      <td>41188.0</td>\n",
              "      <td>2.567593</td>\n",
              "      <td>2.770014</td>\n",
              "      <td>1.000</td>\n",
              "      <td>1.000</td>\n",
              "      <td>2.000</td>\n",
              "      <td>3.000</td>\n",
              "      <td>56.000</td>\n",
              "    </tr>\n",
              "    <tr>\n",
              "      <th>pdays</th>\n",
              "      <td>41188.0</td>\n",
              "      <td>962.475454</td>\n",
              "      <td>186.910907</td>\n",
              "      <td>0.000</td>\n",
              "      <td>999.000</td>\n",
              "      <td>999.000</td>\n",
              "      <td>999.000</td>\n",
              "      <td>999.000</td>\n",
              "    </tr>\n",
              "    <tr>\n",
              "      <th>previous</th>\n",
              "      <td>41188.0</td>\n",
              "      <td>0.172963</td>\n",
              "      <td>0.494901</td>\n",
              "      <td>0.000</td>\n",
              "      <td>0.000</td>\n",
              "      <td>0.000</td>\n",
              "      <td>0.000</td>\n",
              "      <td>7.000</td>\n",
              "    </tr>\n",
              "    <tr>\n",
              "      <th>emp.var.rate</th>\n",
              "      <td>41188.0</td>\n",
              "      <td>0.081886</td>\n",
              "      <td>1.570960</td>\n",
              "      <td>-3.400</td>\n",
              "      <td>-1.800</td>\n",
              "      <td>1.100</td>\n",
              "      <td>1.400</td>\n",
              "      <td>1.400</td>\n",
              "    </tr>\n",
              "    <tr>\n",
              "      <th>cons.price.idx</th>\n",
              "      <td>41188.0</td>\n",
              "      <td>93.575664</td>\n",
              "      <td>0.578840</td>\n",
              "      <td>92.201</td>\n",
              "      <td>93.075</td>\n",
              "      <td>93.749</td>\n",
              "      <td>93.994</td>\n",
              "      <td>94.767</td>\n",
              "    </tr>\n",
              "    <tr>\n",
              "      <th>cons.conf.idx</th>\n",
              "      <td>41188.0</td>\n",
              "      <td>-40.502600</td>\n",
              "      <td>4.628198</td>\n",
              "      <td>-50.800</td>\n",
              "      <td>-42.700</td>\n",
              "      <td>-41.800</td>\n",
              "      <td>-36.400</td>\n",
              "      <td>-26.900</td>\n",
              "    </tr>\n",
              "    <tr>\n",
              "      <th>euribor3m</th>\n",
              "      <td>41188.0</td>\n",
              "      <td>3.621291</td>\n",
              "      <td>1.734447</td>\n",
              "      <td>0.634</td>\n",
              "      <td>1.344</td>\n",
              "      <td>4.857</td>\n",
              "      <td>4.961</td>\n",
              "      <td>5.045</td>\n",
              "    </tr>\n",
              "    <tr>\n",
              "      <th>nr.employed</th>\n",
              "      <td>41188.0</td>\n",
              "      <td>5167.035911</td>\n",
              "      <td>72.251528</td>\n",
              "      <td>4963.600</td>\n",
              "      <td>5099.100</td>\n",
              "      <td>5191.000</td>\n",
              "      <td>5228.100</td>\n",
              "      <td>5228.100</td>\n",
              "    </tr>\n",
              "  </tbody>\n",
              "</table>\n",
              "</div>"
            ],
            "text/plain": [
              "                  count         mean         std       min       25%  \\\n",
              "age             41188.0    40.024060   10.421250    17.000    32.000   \n",
              "campaign        41188.0     2.567593    2.770014     1.000     1.000   \n",
              "pdays           41188.0   962.475454  186.910907     0.000   999.000   \n",
              "previous        41188.0     0.172963    0.494901     0.000     0.000   \n",
              "emp.var.rate    41188.0     0.081886    1.570960    -3.400    -1.800   \n",
              "cons.price.idx  41188.0    93.575664    0.578840    92.201    93.075   \n",
              "cons.conf.idx   41188.0   -40.502600    4.628198   -50.800   -42.700   \n",
              "euribor3m       41188.0     3.621291    1.734447     0.634     1.344   \n",
              "nr.employed     41188.0  5167.035911   72.251528  4963.600  5099.100   \n",
              "\n",
              "                     50%       75%       max  \n",
              "age               38.000    47.000    98.000  \n",
              "campaign           2.000     3.000    56.000  \n",
              "pdays            999.000   999.000   999.000  \n",
              "previous           0.000     0.000     7.000  \n",
              "emp.var.rate       1.100     1.400     1.400  \n",
              "cons.price.idx    93.749    93.994    94.767  \n",
              "cons.conf.idx    -41.800   -36.400   -26.900  \n",
              "euribor3m          4.857     4.961     5.045  \n",
              "nr.employed     5191.000  5228.100  5228.100  "
            ]
          },
          "metadata": {
            "tags": []
          },
          "execution_count": 28
        }
      ]
    },
    {
      "metadata": {
        "id": "NDHaQUfKBWIb",
        "colab_type": "text"
      },
      "cell_type": "markdown",
      "source": [
        "### <center>Визуальный анализ признаков </center>"
      ]
    },
    {
      "metadata": {
        "id": "1xwyvrSKBSbT",
        "colab_type": "code",
        "outputId": "86b1caa5-fecc-4cdd-9e56-56972daf2c7a",
        "colab": {
          "base_uri": "https://localhost:8080/",
          "height": 742
        }
      },
      "cell_type": "code",
      "source": [
        "# the top 10 of browsers represent % of total\n",
        "print(\"Percentual of job: \")\n",
        "print((df['job'].value_counts()[:12])) # printing the top 12 percentage of job\n",
        "\n",
        "# seting the graph size\n",
        "plt.figure(figsize=(14,7))\n",
        "\n",
        "# let explore the browser used by users\n",
        "sns.countplot(df[\"job\"], palette=\"hls\") # It's a module to count the category's\n",
        "plt.title(\"job Count\", fontsize=20) # seting the title size\n",
        "plt.xlabel(\"job Name\", fontsize=18) # seting the x label size\n",
        "plt.ylabel(\"Count\", fontsize=18) # seting the y label size\n",
        "\n",
        "plt.show() #use plt.show to render the graph that we did above"
      ],
      "execution_count": 0,
      "outputs": [
        {
          "output_type": "stream",
          "text": [
            "Percentual of job: \n",
            "admin.           10422\n",
            "blue-collar       9254\n",
            "technician        6743\n",
            "services          3969\n",
            "management        2924\n",
            "retired           1720\n",
            "entrepreneur      1456\n",
            "self-employed     1421\n",
            "housemaid         1060\n",
            "unemployed        1014\n",
            "student            875\n",
            "unknown            330\n",
            "Name: job, dtype: int64\n"
          ],
          "name": "stdout"
        },
        {
          "output_type": "stream",
          "text": [
            "/usr/local/lib/python3.6/dist-packages/seaborn/categorical.py:1428: FutureWarning: remove_na is deprecated and is a private function. Do not use.\n",
            "  stat_data = remove_na(group_data)\n"
          ],
          "name": "stderr"
        },
        {
          "output_type": "display_data",
          "data": {
            "image/png": "[encoded data removed]",
            "text/plain": [
              "<matplotlib.figure.Figure at 0x7f63d2f2d0b8>"
            ]
          },
          "metadata": {
            "tags": []
          }
        }
      ]
    },
    {
      "metadata": {
        "id": "KCII17B_BSkL",
        "colab_type": "code",
        "outputId": "9ae84e2d-15e7-4ba4-8410-b945f88f6e79",
        "colab": {
          "base_uri": "https://localhost:8080/",
          "height": 282
        }
      },
      "cell_type": "code",
      "source": [
        "df['age'].hist(bins=90, normed=1)"
      ],
      "execution_count": 0,
      "outputs": [
        {
          "output_type": "execute_result",
          "data": {
            "text/plain": [
              "<matplotlib.axes._subplots.AxesSubplot at 0x7f63d2f9ec88>"
            ]
          },
          "metadata": {
            "tags": []
          },
          "execution_count": 30
        },
        {
          "output_type": "display_data",
          "data": {
            "image/png": "[encoded data removed]",
            "text/plain": [
              "<matplotlib.figure.Figure at 0x7f63d2f8a630>"
            ]
          },
          "metadata": {
            "tags": []
          }
        }
      ]
    },
    {
      "metadata": {
        "id": "VEqRWEt3BSna",
        "colab_type": "code",
        "outputId": "55b8da2f-b071-4b28-8b61-60005b520911",
        "colab": {
          "base_uri": "https://localhost:8080/",
          "height": 299
        }
      },
      "cell_type": "code",
      "source": [
        "# строим диаграмму\n",
        "df['y'].value_counts().plot(kind='bar')\n",
        "# добавяем надпись\n",
        "plt.title('Количество клиентов сделавших депозит')\n",
        "plt.xticks([0, 1], ['no', 'yes'], rotation=None)\n",
        "plt.text(0.9, 2000, '0.11%', fontsize=15, color='silver')\n",
        "plt.text(-0.1, 18000, '0.89%', fontsize=15, color='silver')"
      ],
      "execution_count": 0,
      "outputs": [
        {
          "output_type": "execute_result",
          "data": {
            "text/plain": [
              "Text(-0.1,18000,'0.89%')"
            ]
          },
          "metadata": {
            "tags": []
          },
          "execution_count": 31
        },
        {
          "output_type": "display_data",
          "data": {
            "image/png": "[encoded data removed]",
            "text/plain": [
              "<matplotlib.figure.Figure at 0x7f63d2e5cda0>"
            ]
          },
          "metadata": {
            "tags": []
          }
        }
      ]
    },
    {
      "metadata": {
        "id": "oT9r-l5JBqz4",
        "colab_type": "text"
      },
      "cell_type": "markdown",
      "source": [
        "#### Выборка не сбалансированна, одного класса больше чем другого."
      ]
    },
    {
      "metadata": {
        "id": "bemfgM72BSqS",
        "colab_type": "code",
        "outputId": "336b7ae6-9de5-437d-8f84-435de6524cda",
        "colab": {
          "base_uri": "https://localhost:8080/",
          "height": 333
        }
      },
      "cell_type": "code",
      "source": [
        "# Анализируемые признаки\n",
        "predictors = [\n",
        " 'age',\n",
        " 'job',\n",
        " 'marital',\n",
        " 'education',\n",
        " 'default',\n",
        " 'housing',\n",
        " 'loan',\n",
        " 'contact',\n",
        " 'month',\n",
        " 'day_of_week',\n",
        " 'campaign',\n",
        " 'pdays',\n",
        " 'previous',\n",
        " 'poutcome',\n",
        " 'emp.var.rate',\n",
        " 'cons.price.idx',\n",
        " 'cons.conf.idx',\n",
        " 'euribor3m',\n",
        " 'nr.employed',\n",
        "]\n",
        "\n",
        "# Ищем коррелирующие признаки\n",
        "corr = df[predictors].corr()\n",
        "sns.heatmap(corr)"
      ],
      "execution_count": 0,
      "outputs": [
        {
          "output_type": "execute_result",
          "data": {
            "text/plain": [
              "<matplotlib.axes._subplots.AxesSubplot at 0x7f63d2a2a860>"
            ]
          },
          "metadata": {
            "tags": []
          },
          "execution_count": 33
        },
        {
          "output_type": "display_data",
          "data": {
            "image/png": "[encoded data removed]",
            "text/plain": [
              "<matplotlib.figure.Figure at 0x7f63d2ca3898>"
            ]
          },
          "metadata": {
            "tags": []
          }
        }
      ]
    },
    {
      "metadata": {
        "id": "1H3R0jQFBSta",
        "colab_type": "code",
        "outputId": "48847579-f3d0-4579-de3b-aa018c71377f",
        "colab": {
          "base_uri": "https://localhost:8080/",
          "height": 609
        }
      },
      "cell_type": "code",
      "source": [
        "# Строим графики распределения признаков\n",
        "plots = df[predictors].hist(figsize=(12,10))"
      ],
      "execution_count": 0,
      "outputs": [
        {
          "output_type": "display_data",
          "data": {
            "image/png": "[encoded data removed]",
            "text/plain": [
              "<matplotlib.figure.Figure at 0x7f63d2da1438>"
            ]
          },
          "metadata": {
            "tags": []
          }
        }
      ]
    },
    {
      "metadata": {
        "id": "rgznIuEMB0eF",
        "colab_type": "text"
      },
      "cell_type": "markdown",
      "source": [
        "#### 1. Посмотрим, как влияет количество сотрудников на целевую переменную"
      ]
    },
    {
      "metadata": {
        "id": "q4OQ_Q7aBSx9",
        "colab_type": "code",
        "outputId": "6f09e850-89f4-4079-ad82-4962d147f6c7",
        "colab": {
          "base_uri": "https://localhost:8080/",
          "height": 323
        }
      },
      "cell_type": "code",
      "source": [
        "grouped = df.groupby(\"y\")\n",
        "nr_employed = grouped[\"nr.employed\"].describe()\n",
        "nr_employed = nr_employed.unstack()\n",
        "print(nr_employed)"
      ],
      "execution_count": 0,
      "outputs": [
        {
          "output_type": "stream",
          "text": [
            "       y  \n",
            "count  no     36548.000000\n",
            "       yes     4640.000000\n",
            "mean   no      5176.166600\n",
            "       yes     5095.115991\n",
            "std    no        64.571979\n",
            "       yes       87.572641\n",
            "min    no      4963.600000\n",
            "       yes     4963.600000\n",
            "25%    no      5099.100000\n",
            "       yes     5017.500000\n",
            "50%    no      5195.800000\n",
            "       yes     5099.100000\n",
            "75%    no      5228.100000\n",
            "       yes     5191.000000\n",
            "max    no      5228.100000\n",
            "       yes     5228.100000\n",
            "dtype: float64\n"
          ],
          "name": "stdout"
        }
      ]
    },
    {
      "metadata": {
        "id": "5PI8ijNLB5Cd",
        "colab_type": "text"
      },
      "cell_type": "markdown",
      "source": [
        "#### Можно сделать вывод о том, что бОльшее количество сотрудников негативно влияет на целевую переменную"
      ]
    },
    {
      "metadata": {
        "id": "kMXcVVz7B70V",
        "colab_type": "text"
      },
      "cell_type": "markdown",
      "source": [
        "#### 2. Далее рассмотрим фактор pdays - количество дней, прошедших после последнего контакта с клиентом из предыдущей кампании"
      ]
    },
    {
      "metadata": {
        "id": "KpaMC_YkBS2N",
        "colab_type": "code",
        "colab": {}
      },
      "cell_type": "code",
      "source": [
        "grouped = df.groupby(\"y\")\n",
        "pdays = grouped[\"pdays\"].describe()\n",
        "pdays = pdays.unstack()\n",
        "print(pdays)"
      ],
      "execution_count": 0,
      "outputs": []
    },
    {
      "metadata": {
        "id": "ho0Or5ElB_VT",
        "colab_type": "text"
      },
      "cell_type": "markdown",
      "source": [
        "#### Более \"высокие\" pdays негативно влияют на выпуск (целевую переменную), логично, чем больше дней прошло после того, как клиент последний раз связывался с предыдущей кампанией, тем меньше шансов того, что клиент сделает банковский депозит."
      ]
    },
    {
      "metadata": {
        "id": "UW3QyYD3CC90",
        "colab_type": "text"
      },
      "cell_type": "markdown",
      "source": [
        "#### 3. Проанализируем наилучшие месяца для банковских депозитов"
      ]
    },
    {
      "metadata": {
        "id": "0RWTnrOsCA59",
        "colab_type": "code",
        "outputId": "566ecf86-f3db-4838-8516-12f5f7f22726",
        "colab": {
          "base_uri": "https://localhost:8080/",
          "height": 502
        }
      },
      "cell_type": "code",
      "source": [
        "periods = pd.crosstab(df[\"month\"], df[\"y\"]).apply(lambda r: r/len(df))\n",
        "print(periods)\n",
        "\n",
        "sns.heatmap(periods)"
      ],
      "execution_count": 0,
      "outputs": [
        {
          "output_type": "stream",
          "text": [
            "y            no       yes\n",
            "month                    \n",
            "apr    0.050816  0.013086\n",
            "aug    0.134092  0.015903\n",
            "dec    0.002258  0.002161\n",
            "jul    0.158420  0.015757\n",
            "jun    0.115543  0.013572\n",
            "mar    0.006555  0.006701\n",
            "may    0.312785  0.021511\n",
            "nov    0.089468  0.010100\n",
            "oct    0.009784  0.007648\n",
            "sep    0.007624  0.006215\n"
          ],
          "name": "stdout"
        },
        {
          "output_type": "execute_result",
          "data": {
            "text/plain": [
              "<matplotlib.axes._subplots.AxesSubplot at 0x7f63d2f392e8>"
            ]
          },
          "metadata": {
            "tags": []
          },
          "execution_count": 36
        },
        {
          "output_type": "display_data",
          "data": {
            "image/png": "[encoded data removed]",
            "text/plain": [
              "<matplotlib.figure.Figure at 0x7f63d2de5cf8>"
            ]
          },
          "metadata": {
            "tags": []
          }
        }
      ]
    },
    {
      "metadata": {
        "id": "GGM86NmDCIYN",
        "colab_type": "text"
      },
      "cell_type": "markdown",
      "source": [
        "#### Март, сентябрь, декабрь положительно влияют на объем депозитов "
      ]
    },
    {
      "metadata": {
        "id": "WlOLrfJ0CLjV",
        "colab_type": "text"
      },
      "cell_type": "markdown",
      "source": [
        "### Подготовка данных"
      ]
    },
    {
      "metadata": {
        "id": "hlmitDmHBS5H",
        "colab_type": "code",
        "outputId": "af82cc09-cb73-4549-db2a-a62c6275ab88",
        "colab": {
          "base_uri": "https://localhost:8080/",
          "height": 270
        }
      },
      "cell_type": "code",
      "source": [
        "# выберем предикторы с номинальными признаками \n",
        "cols =['job', 'marital', 'education', 'default', 'housing', 'loan',\n",
        "       'contact', 'month', 'day_of_week', 'poutcome']\n",
        "data_1 = df[cols]\n",
        "data_dummies = pd.get_dummies(data_1)\n",
        "result_df = pd.concat([data_dummies, df], axis=1)\n",
        "result_df.head()"
      ],
      "execution_count": 0,
      "outputs": [
        {
          "output_type": "execute_result",
          "data": {
            "text/html": [
              "<div>\n",
              "<style scoped>\n",
              "    .dataframe tbody tr th:only-of-type {\n",
              "        vertical-align: middle;\n",
              "    }\n",
              "\n",
              "    .dataframe tbody tr th {\n",
              "        vertical-align: top;\n",
              "    }\n",
              "\n",
              "    .dataframe thead th {\n",
              "        text-align: right;\n",
              "    }\n",
              "</style>\n",
              "<table border=\"1\" class=\"dataframe\">\n",
              "  <thead>\n",
              "    <tr style=\"text-align: right;\">\n",
              "      <th></th>\n",
              "      <th>job_admin.</th>\n",
              "      <th>job_blue-collar</th>\n",
              "      <th>job_entrepreneur</th>\n",
              "      <th>job_housemaid</th>\n",
              "      <th>job_management</th>\n",
              "      <th>job_retired</th>\n",
              "      <th>job_self-employed</th>\n",
              "      <th>job_services</th>\n",
              "      <th>job_student</th>\n",
              "      <th>job_technician</th>\n",
              "      <th>...</th>\n",
              "      <th>campaign</th>\n",
              "      <th>pdays</th>\n",
              "      <th>previous</th>\n",
              "      <th>poutcome</th>\n",
              "      <th>emp.var.rate</th>\n",
              "      <th>cons.price.idx</th>\n",
              "      <th>cons.conf.idx</th>\n",
              "      <th>euribor3m</th>\n",
              "      <th>nr.employed</th>\n",
              "      <th>y</th>\n",
              "    </tr>\n",
              "  </thead>\n",
              "  <tbody>\n",
              "    <tr>\n",
              "      <th>0</th>\n",
              "      <td>0</td>\n",
              "      <td>0</td>\n",
              "      <td>0</td>\n",
              "      <td>1</td>\n",
              "      <td>0</td>\n",
              "      <td>0</td>\n",
              "      <td>0</td>\n",
              "      <td>0</td>\n",
              "      <td>0</td>\n",
              "      <td>0</td>\n",
              "      <td>...</td>\n",
              "      <td>1</td>\n",
              "      <td>999</td>\n",
              "      <td>0</td>\n",
              "      <td>nonexistent</td>\n",
              "      <td>1.1</td>\n",
              "      <td>93.994</td>\n",
              "      <td>-36.4</td>\n",
              "      <td>4.857</td>\n",
              "      <td>5191.0</td>\n",
              "      <td>no</td>\n",
              "    </tr>\n",
              "    <tr>\n",
              "      <th>1</th>\n",
              "      <td>0</td>\n",
              "      <td>0</td>\n",
              "      <td>0</td>\n",
              "      <td>0</td>\n",
              "      <td>0</td>\n",
              "      <td>0</td>\n",
              "      <td>0</td>\n",
              "      <td>1</td>\n",
              "      <td>0</td>\n",
              "      <td>0</td>\n",
              "      <td>...</td>\n",
              "      <td>1</td>\n",
              "      <td>999</td>\n",
              "      <td>0</td>\n",
              "      <td>nonexistent</td>\n",
              "      <td>1.1</td>\n",
              "      <td>93.994</td>\n",
              "      <td>-36.4</td>\n",
              "      <td>4.857</td>\n",
              "      <td>5191.0</td>\n",
              "      <td>no</td>\n",
              "    </tr>\n",
              "    <tr>\n",
              "      <th>2</th>\n",
              "      <td>0</td>\n",
              "      <td>0</td>\n",
              "      <td>0</td>\n",
              "      <td>0</td>\n",
              "      <td>0</td>\n",
              "      <td>0</td>\n",
              "      <td>0</td>\n",
              "      <td>1</td>\n",
              "      <td>0</td>\n",
              "      <td>0</td>\n",
              "      <td>...</td>\n",
              "      <td>1</td>\n",
              "      <td>999</td>\n",
              "      <td>0</td>\n",
              "      <td>nonexistent</td>\n",
              "      <td>1.1</td>\n",
              "      <td>93.994</td>\n",
              "      <td>-36.4</td>\n",
              "      <td>4.857</td>\n",
              "      <td>5191.0</td>\n",
              "      <td>no</td>\n",
              "    </tr>\n",
              "    <tr>\n",
              "      <th>3</th>\n",
              "      <td>1</td>\n",
              "      <td>0</td>\n",
              "      <td>0</td>\n",
              "      <td>0</td>\n",
              "      <td>0</td>\n",
              "      <td>0</td>\n",
              "      <td>0</td>\n",
              "      <td>0</td>\n",
              "      <td>0</td>\n",
              "      <td>0</td>\n",
              "      <td>...</td>\n",
              "      <td>1</td>\n",
              "      <td>999</td>\n",
              "      <td>0</td>\n",
              "      <td>nonexistent</td>\n",
              "      <td>1.1</td>\n",
              "      <td>93.994</td>\n",
              "      <td>-36.4</td>\n",
              "      <td>4.857</td>\n",
              "      <td>5191.0</td>\n",
              "      <td>no</td>\n",
              "    </tr>\n",
              "    <tr>\n",
              "      <th>4</th>\n",
              "      <td>0</td>\n",
              "      <td>0</td>\n",
              "      <td>0</td>\n",
              "      <td>0</td>\n",
              "      <td>0</td>\n",
              "      <td>0</td>\n",
              "      <td>0</td>\n",
              "      <td>1</td>\n",
              "      <td>0</td>\n",
              "      <td>0</td>\n",
              "      <td>...</td>\n",
              "      <td>1</td>\n",
              "      <td>999</td>\n",
              "      <td>0</td>\n",
              "      <td>nonexistent</td>\n",
              "      <td>1.1</td>\n",
              "      <td>93.994</td>\n",
              "      <td>-36.4</td>\n",
              "      <td>4.857</td>\n",
              "      <td>5191.0</td>\n",
              "      <td>no</td>\n",
              "    </tr>\n",
              "  </tbody>\n",
              "</table>\n",
              "<p>5 rows × 73 columns</p>\n",
              "</div>"
            ],
            "text/plain": [
              "   job_admin.  job_blue-collar  job_entrepreneur  job_housemaid  \\\n",
              "0           0                0                 0              1   \n",
              "1           0                0                 0              0   \n",
              "2           0                0                 0              0   \n",
              "3           1                0                 0              0   \n",
              "4           0                0                 0              0   \n",
              "\n",
              "   job_management  job_retired  job_self-employed  job_services  job_student  \\\n",
              "0               0            0                  0             0            0   \n",
              "1               0            0                  0             1            0   \n",
              "2               0            0                  0             1            0   \n",
              "3               0            0                  0             0            0   \n",
              "4               0            0                  0             1            0   \n",
              "\n",
              "   job_technician ...  campaign  pdays  previous     poutcome  emp.var.rate  \\\n",
              "0               0 ...         1    999         0  nonexistent           1.1   \n",
              "1               0 ...         1    999         0  nonexistent           1.1   \n",
              "2               0 ...         1    999         0  nonexistent           1.1   \n",
              "3               0 ...         1    999         0  nonexistent           1.1   \n",
              "4               0 ...         1    999         0  nonexistent           1.1   \n",
              "\n",
              "   cons.price.idx  cons.conf.idx  euribor3m  nr.employed   y  \n",
              "0          93.994          -36.4      4.857       5191.0  no  \n",
              "1          93.994          -36.4      4.857       5191.0  no  \n",
              "2          93.994          -36.4      4.857       5191.0  no  \n",
              "3          93.994          -36.4      4.857       5191.0  no  \n",
              "4          93.994          -36.4      4.857       5191.0  no  \n",
              "\n",
              "[5 rows x 73 columns]"
            ]
          },
          "metadata": {
            "tags": []
          },
          "execution_count": 21
        }
      ]
    },
    {
      "metadata": {
        "id": "m2MVVnZVBS8k",
        "colab_type": "code",
        "colab": {}
      },
      "cell_type": "code",
      "source": [
        "# удалим предикторы с номинальным признаком\n",
        "result_df.drop(cols, axis=1, inplace=True)\n",
        "\n",
        "result_df['y'] = result_df['y'].apply(lambda x: 1 if x =='yes' else 0)\n",
        "\n",
        "result_df['pdays'] = result_df['pdays'].apply(lambda x: 0 if x == 999 else x) # to remove 999\n"
      ],
      "execution_count": 0,
      "outputs": []
    },
    {
      "metadata": {
        "id": "Qp2JsB3zCtpU",
        "colab_type": "text"
      },
      "cell_type": "markdown",
      "source": [
        "### <center>Отбор признаков</center>"
      ]
    },
    {
      "metadata": {
        "id": "Ir_-nV-1BTAY",
        "colab_type": "code",
        "outputId": "8c76b7b8-d4a2-4afe-a0aa-e80c6998c5d1",
        "colab": {
          "base_uri": "https://localhost:8080/",
          "height": 51
        }
      },
      "cell_type": "code",
      "source": [
        "# Маштабируем переменные и конвертируем назад в Pandas DataFrame\n",
        "df_scale = preprocessing.scale(result_df)\n",
        "df_scale = pd.DataFrame(df_scale)\n",
        "df_scale.columns = result_df.columns"
      ],
      "execution_count": 0,
      "outputs": [
        {
          "output_type": "stream",
          "text": [
            "/usr/local/lib/python3.6/dist-packages/ipykernel_launcher.py:1: DataConversionWarning: Data with input dtype uint8, int64, float64 were all converted to float64 by the scale function.\n",
            "  \"\"\"Entry point for launching an IPython kernel.\n"
          ],
          "name": "stderr"
        }
      ]
    },
    {
      "metadata": {
        "id": "e1UDN1csBTDz",
        "colab_type": "code",
        "colab": {}
      },
      "cell_type": "code",
      "source": [
        "# Выделим обучающую выборку и целевую переменую \n",
        "X, y = result_df[[s for s in df_scale.columns if s != 'y']], result_df['y']"
      ],
      "execution_count": 0,
      "outputs": []
    },
    {
      "metadata": {
        "id": "wNfCQfSKBTPy",
        "colab_type": "code",
        "outputId": "9716d60a-0b67-4ec4-855c-ab41bd907d58",
        "colab": {
          "base_uri": "https://localhost:8080/",
          "height": 34
        }
      },
      "cell_type": "code",
      "source": [
        "first_forest = RandomForestClassifier(n_estimators=1000, max_depth = 5, \n",
        "                                      oob_score=True, n_jobs=-1,\n",
        "                                      random_state=42).fit(X, y)\n",
        "# Посмотрим точность предсказания\n",
        "first_forest.oob_score_"
      ],
      "execution_count": 0,
      "outputs": [
        {
          "output_type": "execute_result",
          "data": {
            "text/plain": [
              "0.8993153345634651"
            ]
          },
          "metadata": {
            "tags": []
          },
          "execution_count": 25
        }
      ]
    },
    {
      "metadata": {
        "id": "1JIHx1B2COc2",
        "colab_type": "code",
        "outputId": "81af882d-fde1-42f0-d95e-f117a174e7b0",
        "colab": {
          "base_uri": "https://localhost:8080/",
          "height": 1969
        }
      },
      "cell_type": "code",
      "source": [
        "# проанализируем важность предикторов\n",
        "first_forest_predictions = first_forest.predict(X)\n",
        "features = pd.DataFrame(first_forest.feature_importances_, index=X.columns,\n",
        "                        columns=['Importance']).sort_values(['Importance'], ascending=False)\n",
        "features"
      ],
      "execution_count": 0,
      "outputs": [
        {
          "output_type": "execute_result",
          "data": {
            "text/html": [
              "<div>\n",
              "<style scoped>\n",
              "    .dataframe tbody tr th:only-of-type {\n",
              "        vertical-align: middle;\n",
              "    }\n",
              "\n",
              "    .dataframe tbody tr th {\n",
              "        vertical-align: top;\n",
              "    }\n",
              "\n",
              "    .dataframe thead th {\n",
              "        text-align: right;\n",
              "    }\n",
              "</style>\n",
              "<table border=\"1\" class=\"dataframe\">\n",
              "  <thead>\n",
              "    <tr style=\"text-align: right;\">\n",
              "      <th></th>\n",
              "      <th>Importance</th>\n",
              "    </tr>\n",
              "  </thead>\n",
              "  <tbody>\n",
              "    <tr>\n",
              "      <th>nr.employed</th>\n",
              "      <td>0.196055</td>\n",
              "    </tr>\n",
              "    <tr>\n",
              "      <th>euribor3m</th>\n",
              "      <td>0.173554</td>\n",
              "    </tr>\n",
              "    <tr>\n",
              "      <th>pdays</th>\n",
              "      <td>0.118123</td>\n",
              "    </tr>\n",
              "    <tr>\n",
              "      <th>poutcome_success</th>\n",
              "      <td>0.101557</td>\n",
              "    </tr>\n",
              "    <tr>\n",
              "      <th>emp.var.rate</th>\n",
              "      <td>0.085790</td>\n",
              "    </tr>\n",
              "    <tr>\n",
              "      <th>cons.conf.idx</th>\n",
              "      <td>0.073592</td>\n",
              "    </tr>\n",
              "    <tr>\n",
              "      <th>cons.price.idx</th>\n",
              "      <td>0.056220</td>\n",
              "    </tr>\n",
              "    <tr>\n",
              "      <th>previous</th>\n",
              "      <td>0.025065</td>\n",
              "    </tr>\n",
              "    <tr>\n",
              "      <th>age</th>\n",
              "      <td>0.021906</td>\n",
              "    </tr>\n",
              "    <tr>\n",
              "      <th>poutcome_nonexistent</th>\n",
              "      <td>0.021165</td>\n",
              "    </tr>\n",
              "    <tr>\n",
              "      <th>month_mar</th>\n",
              "      <td>0.014896</td>\n",
              "    </tr>\n",
              "    <tr>\n",
              "      <th>month_oct</th>\n",
              "      <td>0.013241</td>\n",
              "    </tr>\n",
              "    <tr>\n",
              "      <th>contact_telephone</th>\n",
              "      <td>0.012453</td>\n",
              "    </tr>\n",
              "    <tr>\n",
              "      <th>poutcome_failure</th>\n",
              "      <td>0.012437</td>\n",
              "    </tr>\n",
              "    <tr>\n",
              "      <th>contact_cellular</th>\n",
              "      <td>0.011796</td>\n",
              "    </tr>\n",
              "    <tr>\n",
              "      <th>month_may</th>\n",
              "      <td>0.011069</td>\n",
              "    </tr>\n",
              "    <tr>\n",
              "      <th>month_sep</th>\n",
              "      <td>0.006357</td>\n",
              "    </tr>\n",
              "    <tr>\n",
              "      <th>month_apr</th>\n",
              "      <td>0.006296</td>\n",
              "    </tr>\n",
              "    <tr>\n",
              "      <th>default_no</th>\n",
              "      <td>0.003605</td>\n",
              "    </tr>\n",
              "    <tr>\n",
              "      <th>default_unknown</th>\n",
              "      <td>0.003028</td>\n",
              "    </tr>\n",
              "    <tr>\n",
              "      <th>campaign</th>\n",
              "      <td>0.002919</td>\n",
              "    </tr>\n",
              "    <tr>\n",
              "      <th>month_jun</th>\n",
              "      <td>0.002897</td>\n",
              "    </tr>\n",
              "    <tr>\n",
              "      <th>job_student</th>\n",
              "      <td>0.002554</td>\n",
              "    </tr>\n",
              "    <tr>\n",
              "      <th>day_of_week_mon</th>\n",
              "      <td>0.002436</td>\n",
              "    </tr>\n",
              "    <tr>\n",
              "      <th>job_retired</th>\n",
              "      <td>0.002330</td>\n",
              "    </tr>\n",
              "    <tr>\n",
              "      <th>job_blue-collar</th>\n",
              "      <td>0.001817</td>\n",
              "    </tr>\n",
              "    <tr>\n",
              "      <th>month_jul</th>\n",
              "      <td>0.001405</td>\n",
              "    </tr>\n",
              "    <tr>\n",
              "      <th>month_aug</th>\n",
              "      <td>0.001143</td>\n",
              "    </tr>\n",
              "    <tr>\n",
              "      <th>education_university.degree</th>\n",
              "      <td>0.001067</td>\n",
              "    </tr>\n",
              "    <tr>\n",
              "      <th>month_nov</th>\n",
              "      <td>0.001010</td>\n",
              "    </tr>\n",
              "    <tr>\n",
              "      <th>...</th>\n",
              "      <td>...</td>\n",
              "    </tr>\n",
              "    <tr>\n",
              "      <th>education_basic.9y</th>\n",
              "      <td>0.000773</td>\n",
              "    </tr>\n",
              "    <tr>\n",
              "      <th>day_of_week_tue</th>\n",
              "      <td>0.000738</td>\n",
              "    </tr>\n",
              "    <tr>\n",
              "      <th>day_of_week_thu</th>\n",
              "      <td>0.000708</td>\n",
              "    </tr>\n",
              "    <tr>\n",
              "      <th>day_of_week_wed</th>\n",
              "      <td>0.000632</td>\n",
              "    </tr>\n",
              "    <tr>\n",
              "      <th>marital_married</th>\n",
              "      <td>0.000604</td>\n",
              "    </tr>\n",
              "    <tr>\n",
              "      <th>day_of_week_fri</th>\n",
              "      <td>0.000478</td>\n",
              "    </tr>\n",
              "    <tr>\n",
              "      <th>education_high.school</th>\n",
              "      <td>0.000459</td>\n",
              "    </tr>\n",
              "    <tr>\n",
              "      <th>job_technician</th>\n",
              "      <td>0.000403</td>\n",
              "    </tr>\n",
              "    <tr>\n",
              "      <th>job_admin.</th>\n",
              "      <td>0.000402</td>\n",
              "    </tr>\n",
              "    <tr>\n",
              "      <th>education_professional.course</th>\n",
              "      <td>0.000389</td>\n",
              "    </tr>\n",
              "    <tr>\n",
              "      <th>education_unknown</th>\n",
              "      <td>0.000380</td>\n",
              "    </tr>\n",
              "    <tr>\n",
              "      <th>loan_no</th>\n",
              "      <td>0.000377</td>\n",
              "    </tr>\n",
              "    <tr>\n",
              "      <th>loan_yes</th>\n",
              "      <td>0.000334</td>\n",
              "    </tr>\n",
              "    <tr>\n",
              "      <th>housing_no</th>\n",
              "      <td>0.000334</td>\n",
              "    </tr>\n",
              "    <tr>\n",
              "      <th>marital_divorced</th>\n",
              "      <td>0.000320</td>\n",
              "    </tr>\n",
              "    <tr>\n",
              "      <th>housing_yes</th>\n",
              "      <td>0.000317</td>\n",
              "    </tr>\n",
              "    <tr>\n",
              "      <th>job_unknown</th>\n",
              "      <td>0.000316</td>\n",
              "    </tr>\n",
              "    <tr>\n",
              "      <th>education_basic.4y</th>\n",
              "      <td>0.000308</td>\n",
              "    </tr>\n",
              "    <tr>\n",
              "      <th>job_self-employed</th>\n",
              "      <td>0.000292</td>\n",
              "    </tr>\n",
              "    <tr>\n",
              "      <th>job_services</th>\n",
              "      <td>0.000267</td>\n",
              "    </tr>\n",
              "    <tr>\n",
              "      <th>education_basic.6y</th>\n",
              "      <td>0.000241</td>\n",
              "    </tr>\n",
              "    <tr>\n",
              "      <th>job_entrepreneur</th>\n",
              "      <td>0.000240</td>\n",
              "    </tr>\n",
              "    <tr>\n",
              "      <th>job_unemployed</th>\n",
              "      <td>0.000197</td>\n",
              "    </tr>\n",
              "    <tr>\n",
              "      <th>housing_unknown</th>\n",
              "      <td>0.000191</td>\n",
              "    </tr>\n",
              "    <tr>\n",
              "      <th>job_management</th>\n",
              "      <td>0.000182</td>\n",
              "    </tr>\n",
              "    <tr>\n",
              "      <th>loan_unknown</th>\n",
              "      <td>0.000177</td>\n",
              "    </tr>\n",
              "    <tr>\n",
              "      <th>job_housemaid</th>\n",
              "      <td>0.000153</td>\n",
              "    </tr>\n",
              "    <tr>\n",
              "      <th>marital_unknown</th>\n",
              "      <td>0.000082</td>\n",
              "    </tr>\n",
              "    <tr>\n",
              "      <th>education_illiterate</th>\n",
              "      <td>0.000045</td>\n",
              "    </tr>\n",
              "    <tr>\n",
              "      <th>default_yes</th>\n",
              "      <td>0.000000</td>\n",
              "    </tr>\n",
              "  </tbody>\n",
              "</table>\n",
              "<p>62 rows × 1 columns</p>\n",
              "</div>"
            ],
            "text/plain": [
              "                               Importance\n",
              "nr.employed                      0.196055\n",
              "euribor3m                        0.173554\n",
              "pdays                            0.118123\n",
              "poutcome_success                 0.101557\n",
              "emp.var.rate                     0.085790\n",
              "cons.conf.idx                    0.073592\n",
              "cons.price.idx                   0.056220\n",
              "previous                         0.025065\n",
              "age                              0.021906\n",
              "poutcome_nonexistent             0.021165\n",
              "month_mar                        0.014896\n",
              "month_oct                        0.013241\n",
              "contact_telephone                0.012453\n",
              "poutcome_failure                 0.012437\n",
              "contact_cellular                 0.011796\n",
              "month_may                        0.011069\n",
              "month_sep                        0.006357\n",
              "month_apr                        0.006296\n",
              "default_no                       0.003605\n",
              "default_unknown                  0.003028\n",
              "campaign                         0.002919\n",
              "month_jun                        0.002897\n",
              "job_student                      0.002554\n",
              "day_of_week_mon                  0.002436\n",
              "job_retired                      0.002330\n",
              "job_blue-collar                  0.001817\n",
              "month_jul                        0.001405\n",
              "month_aug                        0.001143\n",
              "education_university.degree      0.001067\n",
              "month_nov                        0.001010\n",
              "...                                   ...\n",
              "education_basic.9y               0.000773\n",
              "day_of_week_tue                  0.000738\n",
              "day_of_week_thu                  0.000708\n",
              "day_of_week_wed                  0.000632\n",
              "marital_married                  0.000604\n",
              "day_of_week_fri                  0.000478\n",
              "education_high.school            0.000459\n",
              "job_technician                   0.000403\n",
              "job_admin.                       0.000402\n",
              "education_professional.course    0.000389\n",
              "education_unknown                0.000380\n",
              "loan_no                          0.000377\n",
              "loan_yes                         0.000334\n",
              "housing_no                       0.000334\n",
              "marital_divorced                 0.000320\n",
              "housing_yes                      0.000317\n",
              "job_unknown                      0.000316\n",
              "education_basic.4y               0.000308\n",
              "job_self-employed                0.000292\n",
              "job_services                     0.000267\n",
              "education_basic.6y               0.000241\n",
              "job_entrepreneur                 0.000240\n",
              "job_unemployed                   0.000197\n",
              "housing_unknown                  0.000191\n",
              "job_management                   0.000182\n",
              "loan_unknown                     0.000177\n",
              "job_housemaid                    0.000153\n",
              "marital_unknown                  0.000082\n",
              "education_illiterate             0.000045\n",
              "default_yes                      0.000000\n",
              "\n",
              "[62 rows x 1 columns]"
            ]
          },
          "metadata": {
            "tags": []
          },
          "execution_count": 26
        }
      ]
    },
    {
      "metadata": {
        "id": "l7ED3PMXCOh3",
        "colab_type": "code",
        "outputId": "d76a3211-04a2-4365-ddf1-04136cdb961e",
        "colab": {
          "base_uri": "https://localhost:8080/",
          "height": 282
        }
      },
      "cell_type": "code",
      "source": [
        "# Кривая оценок важности признаков\n",
        "plt.plot(range(len(features.Importance.tolist())), \n",
        "         features.Importance.tolist())"
      ],
      "execution_count": 0,
      "outputs": [
        {
          "output_type": "execute_result",
          "data": {
            "text/plain": [
              "[<matplotlib.lines.Line2D at 0x7f881262f080>]"
            ]
          },
          "metadata": {
            "tags": []
          },
          "execution_count": 27
        },
        {
          "output_type": "display_data",
          "data": {
            "image/png": "[encoded data removed]",
            "text/plain": [
              "<matplotlib.figure.Figure at 0x7f880de20e10>"
            ]
          },
          "metadata": {
            "tags": []
          }
        }
      ]
    },
    {
      "metadata": {
        "id": "Uoi3V6VVGMWs",
        "colab_type": "text"
      },
      "cell_type": "markdown",
      "source": [
        "Анализируя оценки важности можно сделать следующие выводы:\n",
        "1. Такие признаки как: образование клиента, его семейное положение и день недели последнего контакта с клиентом имеют малый вес, поэтому практически не влияют на целевую переменную. Эти признаки не будут использоваться в обучающей выборке.\n",
        "2. Показатели описывающие клиента с маленькими значениями, например: loan, job, default и другие, все же могут вносить незначительные коррективы, поэтому удаляться не будут."
      ]
    },
    {
      "metadata": {
        "id": "eAPcloW-COlE",
        "colab_type": "code",
        "outputId": "2d3a7dee-c3cb-42b5-ab66-f9485fa4a6a3",
        "colab": {
          "base_uri": "https://localhost:8080/",
          "height": 277
        }
      },
      "cell_type": "code",
      "source": [
        "clf = tree.DecisionTreeClassifier(max_depth =1)\n",
        "clf.fit(X,y)\n",
        "\n",
        "tree.export_graphviz(clf)\n",
        "\n",
        "features = ['job_admin.', 'job_blue-collar', 'job_entrepreneur',\n",
        "       'job_housemaid', 'job_management', 'job_retired',\n",
        "       'job_self-employed', 'job_services', 'job_student',\n",
        "       'job_technician', 'job_unemployed', 'job_unknown',\n",
        "       'marital_divorced', 'marital_married', 'marital_single',\n",
        "       'marital_unknown', 'education_basic.4y', 'education_basic.6y',\n",
        "       'education_basic.9y', 'education_high.school',\n",
        "       'education_illiterate', 'education_professional.course',\n",
        "       'education_university.degree', 'education_unknown', 'default_no',\n",
        "       'default_unknown', 'default_yes', 'housing_no', 'housing_unknown',\n",
        "       'housing_yes', 'loan_no', 'loan_unknown', 'loan_yes',\n",
        "       'contact_cellular', 'contact_telephone', 'month_apr', 'month_aug',\n",
        "       'month_dec', 'month_jul', 'month_jun', 'month_mar', 'month_may',\n",
        "       'month_nov', 'month_oct', 'month_sep', 'day_of_week_fri',\n",
        "       'day_of_week_mon', 'day_of_week_thu', 'day_of_week_tue',\n",
        "       'day_of_week_wed', 'poutcome_failure', 'poutcome_nonexistent',\n",
        "       'poutcome_success', 'age','campaign', 'pdays', 'previous', 'emp.var.rate',\n",
        "       'cons.price.idx', 'cons.conf.idx', 'euribor3m', 'nr.employed']\n",
        "target = ['y']\n",
        "\n",
        "out = StringIO()\n",
        "dot_data = tree.export_graphviz(clf, class_names=target,filled=True)\n",
        " \n",
        "graph=pydotplus.graph_from_dot_data(dot_data)\n",
        "Image(graph.create_png())"
      ],
      "execution_count": 0,
      "outputs": [
        {
          "output_type": "execute_result",
          "data": {
            "image/png": "[encoded data removed]",
            "text/plain": [
              "<IPython.core.display.Image object>"
            ]
          },
          "metadata": {
            "tags": []
          },
          "execution_count": 28
        }
      ]
    },
    {
      "metadata": {
        "id": "Lc9vAlieGej5",
        "colab_type": "text"
      },
      "cell_type": "markdown",
      "source": [
        "**Вывод:**\n",
        "Дерево делится при количестве работников равным 5087, что говорит о том, что если число сотрудников > 5087, то есть высокая вероятность того, что срочный депозит не будет открыт."
      ]
    },
    {
      "metadata": {
        "id": "L9KwqTM4COn1",
        "colab_type": "code",
        "colab": {}
      },
      "cell_type": "code",
      "source": [
        "X = result_df[[\n",
        "    'nr.employed',\n",
        "    'euribor3m',\n",
        "    'emp.var.rate',\n",
        "    'cons.conf.idx',\n",
        "    'pdays',\n",
        "    'cons.price.idx',\n",
        "    'poutcome_success',\n",
        "    'contact_telephone',\n",
        "    'contact_cellular',\n",
        "    'poutcome_nonexistent',\n",
        "    'previous',\n",
        "    'month_may',\n",
        "    'age',\n",
        "    'default_no',\n",
        "    'month_oct',\n",
        "    'default_unknown',\n",
        "    'month_mar',\n",
        "    'month_apr',\n",
        "    'poutcome_failure',\n",
        "    'campaign',\n",
        "    'job_blue-collar',\n",
        "    'month_sep',\n",
        "]]"
      ],
      "execution_count": 0,
      "outputs": []
    },
    {
      "metadata": {
        "id": "Wyi-_QFxG6KW",
        "colab_type": "text"
      },
      "cell_type": "markdown",
      "source": [
        "### <center>Построение модели классификации</center>"
      ]
    },
    {
      "metadata": {
        "id": "BDBzMMKoCOtJ",
        "colab_type": "code",
        "colab": {}
      },
      "cell_type": "code",
      "source": [
        "# Разбиваем на тестовую и обучающую выборку 90/10\n",
        "X_train, X_test, y_train, y_test = train_test_split(X, y, test_size=0.1)"
      ],
      "execution_count": 0,
      "outputs": []
    },
    {
      "metadata": {
        "id": "jH6aSNavHZqd",
        "colab_type": "text"
      },
      "cell_type": "markdown",
      "source": [
        "Попробуем четыре разных классификатора: логистическую регрессию, метод ближайших соседей, Gradient boosting, Random Forest и SVM. В качестве меры будем использовать accuracy."
      ]
    },
    {
      "metadata": {
        "id": "RFydnWBgCOwd",
        "colab_type": "code",
        "colab": {}
      },
      "cell_type": "code",
      "source": [
        "classifiers = [LogisticRegression(),\n",
        "               KNeighborsClassifier(),\n",
        "               GradientBoostingClassifier(), \n",
        "               RandomForestClassifier(), \n",
        "               SVC()]\n",
        "classifiers_name = ['LogisticRegression',\n",
        "                    'KNeighborsClassifier',\n",
        "                    'GradientBoostingClassifier', \n",
        "                    'RandomForestClassifier', \n",
        "                    'SVC']\n",
        "# Настройка параметров выбранных алгоритмов с помощью GridSearchCV \n",
        "n_folds = 5\n",
        "scores = []\n",
        "fits = []\n",
        "logistic_params = {'penalty': ('l1', 'l2'),\n",
        "                   'C': (.05,.1,1,5)}\n",
        "knn_params = {'n_neighbors': list(range(3, 12, 2))}\n",
        "gbm_params = {'n_estimators': [100, 300, 500],\n",
        "              'learning_rate':(0.1, 0.5, 1),\n",
        "              'max_depth': list(range(3, 6)), \n",
        "              'min_samples_leaf': list(range(10, 31, 10))}\n",
        "forest_params = {'n_estimators': [100, 300, 500],\n",
        "                 'criterion': ('gini', 'entropy'), \n",
        "                 'max_depth': list(range(3, 6)), \n",
        "                 'min_samples_leaf': list(range(10, 31, 10))}\n",
        "\n",
        "svm_param = {'kernel' : ('linear', 'rbf'), 'C': (.5, 1, 2)}\n",
        "params = [logistic_params, knn_params, gbm_params, forest_params, svm_param]"
      ],
      "execution_count": 0,
      "outputs": []
    },
    {
      "metadata": {
        "id": "Xw93hlu3Hr5o",
        "colab_type": "text"
      },
      "cell_type": "markdown",
      "source": [
        "### <center>Кросс-валидация</center>"
      ]
    },
    {
      "metadata": {
        "id": "_tFCwBMMCO13",
        "colab_type": "code",
        "outputId": "07f5ee8d-f4de-4dae-9387-cceaab287e16",
        "colab": {
          "base_uri": "https://localhost:8080/",
          "height": 394
        }
      },
      "cell_type": "code",
      "source": [
        "for i, each_classifier in enumerate(classifiers):\n",
        "    clf = each_classifier\n",
        "    clf_params = params[i]\n",
        "    grid = GridSearchCV(clf, clf_params, \n",
        "                        cv=StratifiedKFold(n_splits=n_folds,\n",
        "                        shuffle=False, random_state=42), \n",
        "                        n_jobs=-1, scoring=\"accuracy\")\n",
        "    grid.fit(X_train, y_train)\n",
        "    fits.append(grid.best_params_)\n",
        "    clf_best_score = grid.best_score_\n",
        "    scores.append(clf_best_score)\n",
        "    print(classifiers_name[i], clf_best_score, \"\\n\", grid.best_params_, \"\\n\")"
      ],
      "execution_count": 0,
      "outputs": [
        {
          "output_type": "stream",
          "text": [
            "/usr/local/lib/python3.6/dist-packages/sklearn/linear_model/logistic.py:433: FutureWarning: Default solver will be changed to 'lbfgs' in 0.22. Specify a solver to silence this warning.\n",
            "  FutureWarning)\n"
          ],
          "name": "stderr"
        },
        {
          "output_type": "stream",
          "text": [
            "LogisticRegression 0.8997814885753594 \n",
            " {'C': 0.1, 'penalty': 'l2'} \n",
            "\n",
            "KNeighborsClassifier 0.8929563786452291 \n",
            " {'n_neighbors': 11} \n",
            "\n",
            "GradientBoostingClassifier 0.9013731150017534 \n",
            " {'learning_rate': 0.1, 'max_depth': 4, 'min_samples_leaf': 20, 'n_estimators': 100} \n",
            "\n",
            "RandomForestClassifier 0.8999163721708165 \n",
            " {'criterion': 'gini', 'max_depth': 5, 'min_samples_leaf': 10, 'n_estimators': 100} \n",
            "\n"
          ],
          "name": "stdout"
        },
        {
          "output_type": "stream",
          "text": [
            "/usr/local/lib/python3.6/dist-packages/sklearn/externals/joblib/externals/loky/process_executor.py:706: UserWarning: A worker stopped while some jobs were given to the executor. This can be caused by a too short worker timeout or by a memory leak.\n",
            "  \"timeout or by a memory leak.\", UserWarning\n",
            "/usr/local/lib/python3.6/dist-packages/sklearn/svm/base.py:196: FutureWarning: The default value of gamma will change from 'auto' to 'scale' in version 0.22 to account better for unscaled features. Set gamma explicitly to 'auto' or 'scale' to avoid this warning.\n",
            "  \"avoid this warning.\", FutureWarning)\n"
          ],
          "name": "stderr"
        },
        {
          "output_type": "stream",
          "text": [
            "SVC 0.8967600960371199 \n",
            " {'C': 0.5, 'kernel': 'rbf'} \n",
            "\n"
          ],
          "name": "stdout"
        }
      ]
    },
    {
      "metadata": {
        "id": "Zvi7V8YHCPQV",
        "colab_type": "code",
        "outputId": "41772aa3-6a6b-464d-d423-a88270d6e0e0",
        "colab": {
          "base_uri": "https://localhost:8080/",
          "height": 51
        }
      },
      "cell_type": "code",
      "source": [
        "grid_value = max(scores)\n",
        "grid_index = [i for i in range(len(scores)) if scores[i]==grid_value][0]\n",
        "print(\"Лучший классификатор при GridSearch:\",\n",
        "      classifiers_name[grid_index], grid_value)\n",
        "print(fits[grid_index])"
      ],
      "execution_count": 0,
      "outputs": [
        {
          "output_type": "stream",
          "text": [
            "Лучший классификатор при GridSearch: GradientBoostingClassifier 0.9013731150017534\n",
            "{'learning_rate': 0.1, 'max_depth': 4, 'min_samples_leaf': 20, 'n_estimators': 100}\n"
          ],
          "name": "stdout"
        }
      ]
    },
    {
      "metadata": {
        "id": "HGFKmJhEIZ2R",
        "colab_type": "text"
      },
      "cell_type": "markdown",
      "source": [
        "### <center>Финальный прогноз для отложенной выборки</center>"
      ]
    },
    {
      "metadata": {
        "id": "NJujzCT9CPS9",
        "colab_type": "code",
        "outputId": "d987aafe-0921-43b7-f3e0-5b3cc410bf7f",
        "colab": {
          "base_uri": "https://localhost:8080/",
          "height": 34
        }
      },
      "cell_type": "code",
      "source": [
        "final_gbm = GradientBoostingClassifier(n_estimators=300, \n",
        "                    min_samples_leaf=10, learning_rate=0.1, max_depth=4)\n",
        "final_gbm.fit(X_train, y_train)\n",
        "final_pred = final_gbm.predict(X_test)\n",
        "accuracy_score(y_test, final_pred), f1_score(y_test, final_pred)"
      ],
      "execution_count": 0,
      "outputs": [
        {
          "output_type": "execute_result",
          "data": {
            "text/plain": [
              "(0.8956057295460063, 0.39436619718309857)"
            ]
          },
          "metadata": {
            "tags": []
          },
          "execution_count": 34
        }
      ]
    },
    {
      "metadata": {
        "id": "Pf-6FwOrI5Iq",
        "colab_type": "text"
      },
      "cell_type": "markdown",
      "source": [
        "### <center>Оценка модели с описанием выбранной метрики</center>"
      ]
    },
    {
      "metadata": {
        "id": "dsjqhQ3GI6he",
        "colab_type": "text"
      },
      "cell_type": "markdown",
      "source": [
        "Построена модель предсказания, подпишет ли клиент срочный депозит. Модель предсказывает с 90%-ной долей правильных ответов на отложенных 10% выборки. Но accuracy не очень хорошо характеризует качество модели из-за сильного дисбаланса в целевой переменной (~90% против ~10%), но, попробовав в качестве целевой F1-score метрику результаты сильно уходшились (0.39), поэтому я решил оставить accuracy."
      ]
    },
    {
      "metadata": {
        "id": "Df2yjBO8JLBI",
        "colab_type": "text"
      },
      "cell_type": "markdown",
      "source": [
        "## <center>Общие выводы</center>"
      ]
    },
    {
      "metadata": {
        "id": "Zh_EoTQtJM8P",
        "colab_type": "text"
      },
      "cell_type": "markdown",
      "source": [
        "По результатам проведенного анализа, можно увидеть, что есть определенные зависимости. Наблюдаются определенные закономерности - результат предыдущей маркетинговой кампании, количество дней, прошедших после последнего контакта с клиентом из предыдущей кампании, ставка межбанковского кредитования. \n",
        "Имеет влияние количество сотрудников кампании - если их количество превышает ~5000, то вероятность того, что клиент сделает депозит крайне мала.\n",
        "Так же были выявлены наилучшие месяцы для количества клиаентов, сделавших депозит: март, сентябрь, декабрь.\n",
        "\n"
      ]
    }
  ]
}